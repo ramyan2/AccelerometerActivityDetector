{
 "cells": [
  {
   "cell_type": "code",
   "execution_count": 101,
   "metadata": {},
   "outputs": [],
   "source": [
    "import random\n",
    "import matplotlib.pyplot as plt\n",
    "import os\n",
    "import numpy as np\n",
    "import pandas as pd\n",
    "from sklearn import cluster\n",
    "from sklearn import metrics\n",
    "import matplotlib.pyplot as plt\n",
    "from sklearn.cluster import KMeans\n",
    "from sklearn import datasets\n",
    "from sklearn.model_selection import train_test_split\n",
    "from sklearn import linear_model\n",
    "from sklearn.svm import SVC,LinearSVC\n",
    "\n",
    "#initialization of var and arrays\n",
    "d_val = 96\n",
    "all_feature_vectors = []\n",
    "actual_activities = []\n",
    "inner_files = []\n",
    "big_folder = \"/Users/ramya/Desktop/HMP_Dataset/\""
   ]
  },
  {
   "cell_type": "code",
   "execution_count": 102,
   "metadata": {},
   "outputs": [],
   "source": [
    "#need to access every file\n",
    "activities = ['Liedown_bed', 'Walk', 'Eat_soup', 'Getup_bed', 'Descend_stairs', 'Use_telephone', 'Standup_chair', 'Brush_teeth', 'Climb_stairs', 'Sitdown_chair', 'Eat_meat', 'Comb_hair', 'Drink_glass', 'Pour_water' ]\n",
    "\n",
    "for every_folder in activities:\n",
    "    this =  big_folder + every_folder\n",
    "    for (path, name_of_path, bigfile) in os.walk(this):\n",
    "        for every_file in bigfile:\n",
    "            #reads every row from the opened file and stores in all_data array\n",
    "            read_data = pd.read_table(open(os.path.join(path, every_file), 'r'), sep='\\s+', names = [\"xdim\", \"ydim\", \"zdim\"])\n",
    "            all_data = read_data.values.tolist()\n",
    "            \n",
    "            #put all the list of lists in one big list called files_data \n",
    "            files_data = []\n",
    "            for sublist in all_data:\n",
    "                for x in sublist:\n",
    "                    files_data.append(x)\n",
    "                    \n",
    "            #calculate the total number of data values in that signal        \n",
    "            length_of_files_data = len(files_data)\n",
    "            amount_to_subtract = len(files_data)% d_val\n",
    "            count_of_data_values = length_of_files_data - (amount_to_subtract)\n",
    "        \n",
    "            #will split that particular signal into 96 pieces\n",
    "            x = 0;\n",
    "            while True: \n",
    "                inner_files.append(files_data[x : x + d_val])\n",
    "                x = x + d_val\n",
    "                if x >= count_of_data_values:\n",
    "                    break;"
   ]
  },
  {
   "cell_type": "code",
   "execution_count": 103,
   "metadata": {},
   "outputs": [
    {
     "name": "stdout",
     "output_type": "stream",
     "text": [
      "96\n",
      "96\n",
      "13544\n"
     ]
    }
   ],
   "source": [
    "#check1\n",
    "print(len(inner_files[0]))\n",
    "print(len(inner_files[len(inner_files) - 1]))\n",
    "print(len(inner_files))"
   ]
  },
  {
   "cell_type": "code",
   "execution_count": 104,
   "metadata": {},
   "outputs": [],
   "source": [
    "#using given k value\n",
    "kMeans = KMeans(n_clusters = 480)\n",
    "kMeans.fit(inner_files)\n",
    "#perform k means for every folder and file in activities\n",
    "for every_folder in activities:\n",
    "    this = big_folder + every_folder\n",
    "    for (path, name_of_path, bigfile) in os.walk(this):\n",
    "        for every_file in bigfile:\n",
    "            #initializes a feature array of k indexes and a divided signals array \n",
    "            feature_vector_array = [0] * 480\n",
    "            divided_signal = []\n",
    "            \n",
    "            #add name of this file to array of data_names- used later for testing data        \n",
    "            actual_activities.append(every_folder)   \n",
    "            \n",
    "            #reads the data of that particular file   \n",
    "            read_data = pd.read_table(open(os.path.join(path, every_file), 'r'), sep='\\s+', names = [\"xdim\", \"ydim\", \"zdim\"])\n",
    "            all_data = read_data.values.tolist()\n",
    "           \n",
    "            #put all the list of lists in one big list called files_data\n",
    "            files_data = []\n",
    "            for sublist in all_data:\n",
    "                for x in sublist:\n",
    "                    files_data.append(x)\n",
    "        \n",
    "            #do this to know how many times to cluster the d-divided data, aka \"count_of_data_values\" times\n",
    "            length_of_files_data = len(files_data)\n",
    "            amount_to_subtract = len(files_data)% d_val\n",
    "            count_of_data_values = length_of_files_data - (amount_to_subtract)\n",
    "        \n",
    "            #use k means to determine what cluster each piece, of the divided signal, falls in\n",
    "            x = 0;\n",
    "            while True:\n",
    "                divided_signal = np.asarray(files_data[x : x + d_val])\n",
    "                divided_signal = divided_signal.reshape(1, -1)\n",
    "     \n",
    "                #Predict the closest cluster each sample in temp array belongs to.\n",
    "                cluster = kMeans.predict(divided_signal)\n",
    "\n",
    "                feature_vector_array[cluster[0]] += 1\n",
    "                x = x + d_val\n",
    "                \n",
    "                if x >= count_of_data_values:\n",
    "                    break\n",
    "                \n",
    "            #generated k-dim feature vectors for each signal/file\n",
    "            all_feature_vectors.append(feature_vector_array)        "
   ]
  },
  {
   "cell_type": "code",
   "execution_count": 105,
   "metadata": {},
   "outputs": [
    {
     "name": "stderr",
     "output_type": "stream",
     "text": [
      "/Users/ramya/anaconda3/lib/python3.7/site-packages/sklearn/svm/base.py:922: ConvergenceWarning: Liblinear failed to converge, increase the number of iterations.\n",
      "  \"the number of iterations.\", ConvergenceWarning)\n"
     ]
    }
   ],
   "source": [
    "#split training and test data\n",
    "#use train_test_split from package (array, options) in this cause(predictor array, data_names)\n",
    "training_data, test_data, training_labels, test_labels = train_test_split(all_feature_vectors, actual_activities, test_size = 0.20)\n",
    "\n",
    "#Use SVC to classify the data - google\n",
    "clf = LinearSVC()\n",
    "\n",
    "clf.fit(training_data, training_labels)\n",
    "classified_activities = clf.predict(test_data)\n",
    "\n",
    "#print(classified_activities)\n",
    "#print(test_labels)"
   ]
  },
  {
   "cell_type": "code",
   "execution_count": 106,
   "metadata": {},
   "outputs": [
    {
     "name": "stdout",
     "output_type": "stream",
     "text": [
      "0.6964285714285714\n",
      "0.3035714285714286\n"
     ]
    },
    {
     "data": {
      "text/plain": [
       "array([[ 1,  0,  0,  0,  0,  0,  1,  0,  0,  1,  0,  0,  0],\n",
       "       [ 0, 15,  0,  0,  0,  0,  0,  0,  0,  1,  0,  0,  7],\n",
       "       [ 0,  0,  4,  0,  0,  0,  0,  0,  0,  0,  0,  1,  0],\n",
       "       [ 0,  0,  0,  5,  0,  0,  0,  0,  0,  0,  0,  0,  1],\n",
       "       [ 0,  1,  0,  0, 20,  0,  0,  0,  0,  0,  0,  0,  0],\n",
       "       [ 0,  0,  0,  0,  0,  0,  0,  0,  0,  0,  0,  0,  0],\n",
       "       [ 0,  1,  0,  0,  1,  0, 10,  2,  0,  2,  4,  0,  0],\n",
       "       [ 0,  0,  0,  0,  0,  1,  3,  0,  0,  1,  0,  0,  0],\n",
       "       [ 0,  0,  0,  0,  0,  0,  0,  0, 17,  1,  0,  0,  0],\n",
       "       [ 0,  1,  0,  0,  0,  0,  2,  0,  0, 14,  2,  0,  0],\n",
       "       [ 0,  2,  0,  0,  0,  0,  2,  0,  2,  4, 11,  0,  0],\n",
       "       [ 0,  0,  0,  0,  3,  0,  0,  0,  0,  0,  0,  1,  0],\n",
       "       [ 0,  2,  0,  0,  0,  0,  2,  0,  0,  0,  0,  0, 19]])"
      ]
     },
     "execution_count": 106,
     "metadata": {},
     "output_type": "execute_result"
    }
   ],
   "source": [
    "#calculates the accuracy\n",
    "accuracy = metrics.accuracy_score(test_labels, classified_activities)\n",
    "print(accuracy)\n",
    "#calculates the error\n",
    "error = 1 - accuracy\n",
    "print(error)\n",
    "#calculates the confusion matrix\n",
    "metrics.confusion_matrix(test_labels, classified_activities)"
   ]
  },
  {
   "cell_type": "code",
   "execution_count": 116,
   "metadata": {},
   "outputs": [],
   "source": [
    "import random\n",
    "import matplotlib.pyplot as plt\n",
    "import os\n",
    "import numpy as np\n",
    "import pandas as pd\n",
    "from sklearn import cluster\n",
    "from sklearn import metrics\n",
    "import matplotlib.pyplot as plt\n",
    "from sklearn.cluster import KMeans\n",
    "from sklearn import datasets\n",
    "from sklearn.model_selection import train_test_split\n",
    "from sklearn import linear_model\n",
    "from sklearn.svm import SVC,LinearSVC\n",
    "\n",
    "#initialization of var and arrays\n",
    "d_val = 90\n",
    "all_feature_vectors = []\n",
    "actual_activities = []\n",
    "inner_files = []\n",
    "big_folder = \"/Users/ramya/Desktop/HMP_Dataset/\""
   ]
  },
  {
   "cell_type": "code",
   "execution_count": 117,
   "metadata": {},
   "outputs": [],
   "source": [
    "#need to access every file\n",
    "activities = ['Liedown_bed', 'Walk', 'Eat_soup', 'Getup_bed', 'Descend_stairs', 'Use_telephone', 'Standup_chair', 'Brush_teeth', 'Climb_stairs', 'Sitdown_chair', 'Eat_meat', 'Comb_hair', 'Drink_glass', 'Pour_water' ]\n",
    "\n",
    "for every_folder in activities:\n",
    "    this = big_folder + every_folder\n",
    "    #got from google\n",
    "    for (path, name_of_path, bigfile) in os.walk(this):\n",
    "        for every_file in bigfile:\n",
    "            #reads every row from the opened file and stores in all_data array\n",
    "            read_data = pd.read_table(open(os.path.join(path, every_file), 'r'), sep='\\s+', names = [\"xdim\", \"ydim\", \"zdim\"])\n",
    "            all_data = read_data.values.tolist()\n",
    "            \n",
    "            \n",
    "            #put all the list of lists in one big list called files_data-looked on stack \n",
    "            files_data = []\n",
    "            for sublist in all_data:\n",
    "                for x in sublist:\n",
    "                    files_data.append(x)\n",
    "                    \n",
    "            #calculate the total number of data values in that signal        \n",
    "            length_of_files_data = len(files_data)\n",
    "            amount_to_subtract = len(files_data)% d_val\n",
    "            count_of_data_values = length_of_files_data - (amount_to_subtract)\n",
    "        \n",
    "            #will split that particular signal into 96 pieces\n",
    "            x = 0;\n",
    "            while  x < count_of_data_values: \n",
    "                inner_files.append(files_data[x : x + d_val])\n",
    "                x = x + d_val"
   ]
  },
  {
   "cell_type": "code",
   "execution_count": 3,
   "metadata": {},
   "outputs": [
    {
     "data": {
      "image/png": "[encoded data removed]",
      "text/plain": [
       "<Figure size 432x288 with 1 Axes>"
      ]
     },
     "metadata": {
      "needs_background": "light"
     },
     "output_type": "display_data"
    }
   ],
   "source": [
    "Sum_of_squared_distances = []\n",
    "K = range(20,200)\n",
    "for k in K:\n",
    "    km = KMeans(n_clusters=k)\n",
    "    km = km.fit(inner_files)\n",
    "    Sum_of_squared_distances.append(km.inertia_)\n",
    "    \n",
    "plt.plot(K, Sum_of_squared_distances, 'bx-')\n",
    "plt.xlabel('k')\n",
    "plt.ylabel('Sum_of_squared_distances')\n",
    "plt.title('Elbow Method For Optimal k')\n",
    "plt.show()"
   ]
  },
  {
   "cell_type": "code",
   "execution_count": 118,
   "metadata": {},
   "outputs": [],
   "source": [
    "#based on elbow curve I notice the knee of the curve is around 90-100 so I will try those k values until I find the best one\n",
    "#90 performed best as the k value\n",
    "kMeans = KMeans(n_clusters = 90)\n",
    "kMeans.fit(inner_files)\n",
    "#perform k means for every folder and file in activities\n",
    "for every_folder in activities:\n",
    "    this = big_folder + every_folder\n",
    "    for (path, name_of_path, bigfile) in os.walk(this):\n",
    "        for every_file in bigfile:\n",
    "            #initializes a feature array of k indexes and a divided signals array \n",
    "            feature_vector_array = [0] * 90\n",
    "            divided_signal = []\n",
    "            \n",
    "            #add name of this file to array of data_names- used later for testing data        \n",
    "            actual_activities.append(every_folder)   \n",
    "            \n",
    "            #reads the data of that particular file   \n",
    "            read_data = pd.read_table(open(os.path.join(path, every_file), 'r'), sep='\\s+', names = [\"xdim\", \"ydim\", \"zdim\"])\n",
    "            all_data = read_data.values.tolist()\n",
    "            \n",
    "           \n",
    "            #put all the list of lists in one big list called files_data-looked on stack\n",
    "            files_data = []\n",
    "            for sublist in all_data:\n",
    "                for x in sublist:\n",
    "                    files_data.append(x)\n",
    "        \n",
    "            #do this to know how many times to cluster the d-divided signals, aka \"count_of_data_values\" times\n",
    "            length_of_files_data = len(files_data)\n",
    "            amount_to_subtract = len(files_data)% d_val\n",
    "            count_of_data_values = length_of_files_data - (amount_to_subtract)\n",
    "        \n",
    "            #use k means to determine what cluster each piece, of the divided signal, falls in\n",
    "            x = 0;\n",
    "            while x < count_of_data_values:\n",
    "                divided_signal = np.asarray(files_data[x : x + d_val]).reshape(1, -1)\n",
    "     \n",
    "                #Predict the closest cluster each sample in temp array belongs to.\n",
    "                cluster = kMeans.predict(divided_signal)\n",
    "\n",
    "                feature_vector_array[cluster[0]] += 1\n",
    "                x = x + d_val\n",
    "                \n",
    "            #generated k-dim feature vectors for each signal/file\n",
    "            all_feature_vectors.append(feature_vector_array)        "
   ]
  },
  {
   "cell_type": "code",
   "execution_count": 119,
   "metadata": {},
   "outputs": [
    {
     "name": "stderr",
     "output_type": "stream",
     "text": [
      "/Users/ramya/anaconda3/lib/python3.7/site-packages/sklearn/svm/base.py:922: ConvergenceWarning: Liblinear failed to converge, increase the number of iterations.\n",
      "  \"the number of iterations.\", ConvergenceWarning)\n"
     ]
    }
   ],
   "source": [
    "#split training and test data\n",
    "#use train_test_split from package (array, options) in this cause(predictor array, data_names)\n",
    "training_data, test_data, training_labels, test_labels = train_test_split(all_feature_vectors, actual_activities, test_size = 0.20)\n",
    "\n",
    "#Use SVC to classify the data\n",
    "clf = LinearSVC()\n",
    "\n",
    "clf.fit(training_data, training_labels)\n",
    "classified_activities = clf.predict(test_data)\n",
    "\n",
    "#print(classified_activities)\n",
    "#print(test_labels)"
   ]
  },
  {
   "cell_type": "code",
   "execution_count": 120,
   "metadata": {},
   "outputs": [
    {
     "name": "stdout",
     "output_type": "stream",
     "text": [
      "0.7738095238095238\n",
      "0.22619047619047616\n"
     ]
    },
    {
     "data": {
      "text/plain": [
       "array([[ 1,  0,  0,  0,  0,  0,  0,  0,  0,  0,  0,  0,  0],\n",
       "       [ 0, 13,  0,  3,  0,  0,  1,  2,  0,  0,  1,  0,  2],\n",
       "       [ 0,  0,  9,  0,  2,  0,  0,  0,  0,  0,  0,  0,  0],\n",
       "       [ 0,  1,  0,  8,  0,  0,  0,  0,  0,  0,  0,  0,  1],\n",
       "       [ 0,  0,  0,  0, 18,  0,  1,  0,  0,  0,  0,  0,  0],\n",
       "       [ 0,  0,  0,  0,  0,  0,  0,  0,  1,  0,  0,  0,  0],\n",
       "       [ 0,  2,  0,  0,  0,  1, 13,  1,  0,  1,  3,  0,  1],\n",
       "       [ 0,  0,  0,  0,  0,  0,  1,  3,  0,  1,  0,  0,  0],\n",
       "       [ 0,  0,  0,  0,  0,  0,  0,  0, 20,  0,  0,  0,  0],\n",
       "       [ 0,  0,  0,  0,  0,  0,  0,  0,  0, 13,  4,  0,  1],\n",
       "       [ 0,  1,  0,  0,  0,  0,  3,  0,  0,  0, 14,  0,  0],\n",
       "       [ 0,  0,  0,  0,  0,  0,  0,  0,  0,  0,  0,  2,  0],\n",
       "       [ 0,  1,  0,  0,  0,  0,  2,  0,  0,  0,  0,  0, 16]])"
      ]
     },
     "execution_count": 120,
     "metadata": {},
     "output_type": "execute_result"
    }
   ],
   "source": [
    "#calculates the accuracy\n",
    "accuracy = metrics.accuracy_score(test_labels, classified_activities)\n",
    "print(accuracy)\n",
    "#calculates the error\n",
    "error = 1 - accuracy\n",
    "print(error)\n",
    "#calculates the confusion matrix\n",
    "metrics.confusion_matrix(test_labels, classified_activities)\n",
    "\n",
    "\n",
    "#classifier performs better!"
   ]
  }
 ],
 "metadata": {
  "kernelspec": {
   "display_name": "Python 3",
   "language": "python",
   "name": "python3"
  },
  "language_info": {
   "codemirror_mode": {
    "name": "ipython",
    "version": 3
   },
   "file_extension": ".py",
   "mimetype": "text/x-python",
   "name": "python",
   "nbconvert_exporter": "python",
   "pygments_lexer": "ipython3",
   "version": "3.7.1"
  }
 },
 "nbformat": 4,
 "nbformat_minor": 2
}
